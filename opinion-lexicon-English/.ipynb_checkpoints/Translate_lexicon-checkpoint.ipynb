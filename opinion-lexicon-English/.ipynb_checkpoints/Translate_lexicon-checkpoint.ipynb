{
 "cells": [
  {
   "cell_type": "code",
   "execution_count": 2,
   "metadata": {
    "collapsed": false
   },
   "outputs": [],
   "source": [
    "text_file = open(\"positive-words.txt\", \"r\")\n",
    "lines = text_file.read().split('\\n')"
   ]
  },
  {
   "cell_type": "code",
   "execution_count": 3,
   "metadata": {
    "collapsed": false
   },
   "outputs": [
    {
     "name": "stdout",
     "output_type": "stream",
     "text": [
      "2008\n",
      "2007\n"
     ]
    }
   ],
   "source": [
    "print len(lines)\n",
    "words = [x for x in lines if x is not '']\n",
    "print len(words)"
   ]
  },
  {
   "cell_type": "code",
   "execution_count": 4,
   "metadata": {
    "collapsed": true
   },
   "outputs": [],
   "source": [
    "#Remove the last symbol '\\r'\n",
    "words = [word[:-1] for word in words]"
   ]
  },
  {
   "cell_type": "code",
   "execution_count": 6,
   "metadata": {
    "collapsed": false
   },
   "outputs": [],
   "source": [
    "from time import sleep\n",
    "from googletrans import Translator\n",
    "translator = Translator()"
   ]
  },
  {
   "cell_type": "code",
   "execution_count": 7,
   "metadata": {
    "collapsed": false
   },
   "outputs": [
    {
     "name": "stdout",
     "output_type": "stream",
     "text": [
      "18\n",
      "19\n",
      "20\n"
     ]
    }
   ],
   "source": [
    "#Translate the lexicon using Goggletrans\n",
    "count = 0\n",
    "while count < 20:\n",
    "    batch_words = words[count*100: (count+1)*100]\n",
    "    translations = translator.translate(batch_words, dest='fr')\n",
    "    with open(\"Pos_Output.txt\", \"a\") as text_file:\n",
    "        for translation in translations:\n",
    "            if len(translation.text.split()) != 1:\n",
    "                continue\n",
    "            result = translation.origin + \" \" + translation.text+ \"\\n\" \n",
    "            text_file.write(result.encode('utf-8'))\n",
    "    sleep(120)\n",
    "    count += 1\n",
    "    print count"
   ]
  },
  {
   "cell_type": "code",
   "execution_count": null,
   "metadata": {
    "collapsed": true
   },
   "outputs": [],
   "source": []
  }
 ],
 "metadata": {
  "kernelspec": {
   "display_name": "Python 2",
   "language": "python",
   "name": "python2"
  },
  "language_info": {
   "codemirror_mode": {
    "name": "ipython",
    "version": 2
   },
   "file_extension": ".py",
   "mimetype": "text/x-python",
   "name": "python",
   "nbconvert_exporter": "python",
   "pygments_lexer": "ipython2",
   "version": "2.7.15"
  }
 },
 "nbformat": 4,
 "nbformat_minor": 2
}
